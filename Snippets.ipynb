{
 "cells": [
  {
   "cell_type": "code",
   "execution_count": 1,
   "metadata": {},
   "outputs": [],
   "source": [
    "from random_italian_person import RandomItalianPerson"
   ]
  },
  {
   "cell_type": "code",
   "execution_count": 2,
   "metadata": {},
   "outputs": [
    {
     "name": "stdout",
     "output_type": "stream",
     "text": [
      "{\n",
      "    \"region\": \"Puglia\",\n",
      "    \"province\": \"Taranto\",\n",
      "    \"surname\": \"Santoro\",\n",
      "    \"name\": \"Emma\",\n",
      "    \"sex\": \"F\",\n",
      "    \"municipality\": \"San Giorgio Ionico\",\n",
      "    \"cap\": \"74027\",\n",
      "    \"province_code\": \"TA\",\n",
      "    \"birthdate\": \"1933-01-28\",\n",
      "    \"codice_fiscale\": \"SNTMME33A68H882S\"\n",
      "}\n"
     ]
    }
   ],
   "source": [
    "print(RandomItalianPerson())"
   ]
  },
  {
   "cell_type": "code",
   "execution_count": null,
   "metadata": {},
   "outputs": [],
   "source": []
  }
 ],
 "metadata": {
  "kernelspec": {
   "display_name": "Python 3",
   "language": "python",
   "name": "python3"
  },
  "language_info": {
   "codemirror_mode": {
    "name": "ipython",
    "version": 3
   },
   "file_extension": ".py",
   "mimetype": "text/x-python",
   "name": "python",
   "nbconvert_exporter": "python",
   "pygments_lexer": "ipython3",
   "version": "3.7.4"
  }
 },
 "nbformat": 4,
 "nbformat_minor": 2
}
